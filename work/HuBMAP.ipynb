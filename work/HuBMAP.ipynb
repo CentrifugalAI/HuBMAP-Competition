{
 "cells": [
  {
   "cell_type": "markdown",
   "metadata": {},
   "source": [
    "<font face = \"华文中宋\">\n",
    "\n",
    "# HuBMAP Competition Notebook"
   ]
  },
  {
   "cell_type": "markdown",
   "metadata": {},
   "source": [
    "<font face = \"华文中宋\">\n",
    "\n",
    "## Exploration \n",
    "\n",
    "该模块用于探索所给数据集的一些性质，服务于机器学习模型的创建。"
   ]
  },
  {
   "cell_type": "code",
   "execution_count": null,
   "metadata": {},
   "outputs": [],
   "source": [
    "# 检查标注数据的数量\n"
   ]
  },
  {
   "cell_type": "code",
   "execution_count": null,
   "metadata": {},
   "outputs": [],
   "source": [
    "# 图像标注\n",
    "# 方法来源：https://www.kaggle.com/competitions/hubmap-hacking-the-human-vasculature/discussion/419133\n",
    "\n",
    "from skimage.io import imread, imshow\n",
    "import matplotlib.pylab as plt\n",
    "import numpy as np\n",
    "import pandas as pd\n",
    "import json\n",
    "\n",
    "# From https://www.kaggle.com/code/leonidkulyk/eda-hubmap-hhv-interactive-annotations\n",
    "def get_cartesian_coords(coords, img_height=512):\n",
    "    coords_array = np.array(coords).squeeze()\n",
    "    xs = coords_array[:, 0]\n",
    "    ys = coords_array[:, 1]\n",
    "\n",
    "    return xs, ys\n",
    "\n",
    "with open(\"../input/hubmap-hacking-the-human-vasculature/polygons.jsonl\") as f:\n",
    "    data = f.read()\n",
    "\n",
    "\n",
    "res = []\n",
    "for file in data.splitlines():\n",
    "    d = json.loads(file)\n",
    "    res.append(d)\n",
    "\n",
    "# One random sample\n",
    "d = res[500]\n",
    "img_id = d[\"id\"]\n",
    "path = f\"../input/hubmap-hacking-the-human-vasculature/train/{img_id}.tif\"\n",
    "img = imread(path)\n",
    "\n",
    "\n",
    "fig, ax = plt.subplots(1, 1, figsize=(10, 10))\n",
    "ax.imshow(img)\n",
    "for e in d[\"annotations\"]:\n",
    "    if e[\"type\"] == \"blood_vessel\":\n",
    "        coordinates = e[\"coordinates\"]\n",
    "        xs, ys = get_cartesian_coords(coordinates)\n",
    "        ax.plot(xs, ys, c=\"red\")\n",
    "fig.show()"
   ]
  }
 ],
 "metadata": {
  "kernelspec": {
   "display_name": "Python 3",
   "language": "python",
   "name": "python3"
  },
  "language_info": {
   "codemirror_mode": {
    "name": "ipython",
    "version": 3
   },
   "file_extension": ".py",
   "mimetype": "text/x-python",
   "name": "python",
   "nbconvert_exporter": "python",
   "pygments_lexer": "ipython3",
   "version": "3.11.3"
  },
  "orig_nbformat": 4
 },
 "nbformat": 4,
 "nbformat_minor": 2
}
